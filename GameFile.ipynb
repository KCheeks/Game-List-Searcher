{
 "cells": [
  {
   "cell_type": "code",
   "execution_count": 2,
   "id": "91389c1d",
   "metadata": {},
   "outputs": [
    {
     "name": "stdout",
     "output_type": "stream",
     "text": [
      "How many games in different genres or years are you looking for? if you are looking for inquiry in only one set please enter 1: 1\n",
      "\n",
      " GET Users interest in games based on genre and year\n",
      "if their is more than one genre you are into please enter your answer with a comma and a space between them\n",
      "example: Adventure, Strategy / sidenote order of genre does matter so try them out\n",
      "Genre: Hack and slash/Beat em up,Adventure,Arcade,Card & Board Game,Fighting,Indie,Music,Pinball,Platform,Point-and-click,Puzzle,Quiz/Trivia,Racing,Real Time Strategy (RTS),Role-playing (RPG),Shooter,Simulator,Sport,Strategy,Tactical,Turn-based strategy (TBS),Visual Novel: Adventure\n",
      "What year of games are you interested in?: 2011\n",
      "\n",
      "input observation:  ['2011', 'Adventure']\n",
      "With the given information:  ['2011', 'Adventure']\n",
      "This game matches it:  Assassins Creed: Revelations\n",
      "With the given information:  ['2011', 'Adventure']\n",
      "This game matches it:  The Chronicles of Shakespeare: A Midsummer Nights Dream\n",
      "With the given information:  ['2011', 'Adventure']\n",
      "This game matches it:  Dragon Age II\n",
      "With the given information:  ['2011', 'Adventure']\n",
      "This game matches it:  Magicka\n",
      "With the given information:  ['2011', 'Adventure']\n",
      "This game matches it:  Minecraft\n"
     ]
    }
   ],
   "source": [
    "\"\"\"\n",
    "Created on Sun Sept 11 13:26:43 2022\n",
    "\n",
    "@author: K_Cheeks\n",
    "\"\"\"\n",
    "import csv\n",
    "\n",
    "#Thinking humanly through medical diagnosis\n",
    "\n",
    "class Expert_System:               \n",
    "    def user_interface(self):            \n",
    "        print(\"\\n GET Users interest in games based on genre and year\")\n",
    "        print(\"if their is more than one genre you are into please enter your answer with a comma and a space between them\")\n",
    "        print(\"example: Adventure, Strategy / sidenote order of genre does matter so try them out\")\n",
    "        genre = str(input(\"Genre: Hack and slash/Beat em up,Adventure,Arcade,Card & Board Game,Fighting,Indie,Music,Pinball,Platform,Point-and-click,Puzzle,Quiz/Trivia,Racing,Real Time Strategy (RTS),Role-playing (RPG),Shooter,Simulator,Sport,Strategy,Tactical,Turn-based strategy (TBS),Visual Novel: \"))\n",
    "        year = str(input(\"What year of games are you interested in?: \"))\n",
    "\n",
    "        #Load into a list data structure   \n",
    "        Game_list = []\n",
    "        Game_list.append(year)\n",
    "        Game_list.append(genre)\n",
    "        self.Game_list = Game_list \n",
    "        print('')\n",
    "        print('input observation: ', self.Game_list)\n",
    "                    \n",
    "    #load knowledge-base from file\n",
    "    def inference(self):        \n",
    "        flag = 0\n",
    "        with open('Windows_Games_List.csv') as csvfile:\n",
    "            readCSV = csv.reader(csvfile, delimiter=',')\n",
    "            knowledge = []                  \n",
    "            for row in readCSV:\n",
    "                knowledge.append(row)\n",
    "                knowledge_list = []\n",
    "                knowledge_list.append(row[1])\n",
    "                knowledge_list.append(row[4])\n",
    "                     \n",
    "                #test for certainty through equality\n",
    "                if (self.Game_list == knowledge_list):\n",
    "                    print('With the given information: ', knowledge_list)\n",
    "                    print('This game matches it: ', row[0])\n",
    "    \n",
    "\n",
    "                \n",
    "#------------------------class driver------------------------------------------\n",
    "handle = Expert_System()\n",
    "patients = int(input(\"How many games in different genres or years are you looking for? if you are looking for inquiry in only one set please enter 1: \"))\n",
    "for i in range(patients):\n",
    "    handle.user_interface()\n",
    "    handle.inference()\n"
   ]
  },
  {
   "cell_type": "code",
   "execution_count": null,
   "id": "c2e7e041",
   "metadata": {},
   "outputs": [],
   "source": []
  },
  {
   "cell_type": "code",
   "execution_count": null,
   "id": "e1997d83",
   "metadata": {},
   "outputs": [],
   "source": []
  }
 ],
 "metadata": {
  "kernelspec": {
   "display_name": "Python 3 (ipykernel)",
   "language": "python",
   "name": "python3"
  },
  "language_info": {
   "codemirror_mode": {
    "name": "ipython",
    "version": 3
   },
   "file_extension": ".py",
   "mimetype": "text/x-python",
   "name": "python",
   "nbconvert_exporter": "python",
   "pygments_lexer": "ipython3",
   "version": "3.9.12"
  }
 },
 "nbformat": 4,
 "nbformat_minor": 5
}
